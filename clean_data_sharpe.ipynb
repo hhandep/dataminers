{
 "cells": [
  {
   "cell_type": "code",
   "execution_count": 2,
   "metadata": {},
   "outputs": [],
   "source": [
    "import pandas as pd\n",
    "import numpy as np\n",
    "import matplotlib.pyplot as plt\n",
    "import seaborn as sns\n",
    "from datetime import datetime\n",
    "import yfinance as yf\n",
    "from scipy.stats import norm"
   ]
  },
  {
   "cell_type": "code",
   "execution_count": 3,
   "metadata": {},
   "outputs": [
    {
     "data": {
      "text/html": [
       "<div>\n",
       "<style scoped>\n",
       "    .dataframe tbody tr th:only-of-type {\n",
       "        vertical-align: middle;\n",
       "    }\n",
       "\n",
       "    .dataframe tbody tr th {\n",
       "        vertical-align: top;\n",
       "    }\n",
       "\n",
       "    .dataframe thead th {\n",
       "        text-align: right;\n",
       "    }\n",
       "</style>\n",
       "<table border=\"1\" class=\"dataframe\">\n",
       "  <thead>\n",
       "    <tr style=\"text-align: right;\">\n",
       "      <th></th>\n",
       "      <th>Ticker</th>\n",
       "      <th>SimFinId</th>\n",
       "      <th>Date</th>\n",
       "      <th>Open</th>\n",
       "      <th>Low</th>\n",
       "      <th>High</th>\n",
       "      <th>Close</th>\n",
       "      <th>Adj. Close</th>\n",
       "      <th>Dividend</th>\n",
       "      <th>Volume</th>\n",
       "      <th>Shares Outstanding</th>\n",
       "    </tr>\n",
       "  </thead>\n",
       "  <tbody>\n",
       "    <tr>\n",
       "      <th>0</th>\n",
       "      <td>GOOG</td>\n",
       "      <td>18</td>\n",
       "      <td>2016-10-24</td>\n",
       "      <td>40.24</td>\n",
       "      <td>40.24</td>\n",
       "      <td>40.76</td>\n",
       "      <td>40.66</td>\n",
       "      <td>40.66</td>\n",
       "      <td>NaN</td>\n",
       "      <td>33950280</td>\n",
       "      <td>1.378272e+10</td>\n",
       "    </tr>\n",
       "    <tr>\n",
       "      <th>1</th>\n",
       "      <td>GOOG</td>\n",
       "      <td>18</td>\n",
       "      <td>2016-10-25</td>\n",
       "      <td>40.83</td>\n",
       "      <td>40.26</td>\n",
       "      <td>40.83</td>\n",
       "      <td>40.38</td>\n",
       "      <td>40.38</td>\n",
       "      <td>NaN</td>\n",
       "      <td>31528080</td>\n",
       "      <td>1.378272e+10</td>\n",
       "    </tr>\n",
       "    <tr>\n",
       "      <th>2</th>\n",
       "      <td>GOOG</td>\n",
       "      <td>18</td>\n",
       "      <td>2016-10-26</td>\n",
       "      <td>40.32</td>\n",
       "      <td>39.82</td>\n",
       "      <td>40.35</td>\n",
       "      <td>39.95</td>\n",
       "      <td>39.95</td>\n",
       "      <td>NaN</td>\n",
       "      <td>32954660</td>\n",
       "      <td>1.378272e+10</td>\n",
       "    </tr>\n",
       "    <tr>\n",
       "      <th>3</th>\n",
       "      <td>GOOG</td>\n",
       "      <td>18</td>\n",
       "      <td>2016-10-27</td>\n",
       "      <td>40.05</td>\n",
       "      <td>39.58</td>\n",
       "      <td>40.17</td>\n",
       "      <td>39.77</td>\n",
       "      <td>39.77</td>\n",
       "      <td>NaN</td>\n",
       "      <td>54984420</td>\n",
       "      <td>1.378477e+10</td>\n",
       "    </tr>\n",
       "    <tr>\n",
       "      <th>4</th>\n",
       "      <td>GOOG</td>\n",
       "      <td>18</td>\n",
       "      <td>2016-10-28</td>\n",
       "      <td>40.42</td>\n",
       "      <td>39.68</td>\n",
       "      <td>40.77</td>\n",
       "      <td>39.77</td>\n",
       "      <td>39.77</td>\n",
       "      <td>NaN</td>\n",
       "      <td>85398040</td>\n",
       "      <td>1.378477e+10</td>\n",
       "    </tr>\n",
       "  </tbody>\n",
       "</table>\n",
       "</div>"
      ],
      "text/plain": [
       "  Ticker  SimFinId        Date   Open    Low   High  Close  Adj. Close  \\\n",
       "0   GOOG        18  2016-10-24  40.24  40.24  40.76  40.66       40.66   \n",
       "1   GOOG        18  2016-10-25  40.83  40.26  40.83  40.38       40.38   \n",
       "2   GOOG        18  2016-10-26  40.32  39.82  40.35  39.95       39.95   \n",
       "3   GOOG        18  2016-10-27  40.05  39.58  40.17  39.77       39.77   \n",
       "4   GOOG        18  2016-10-28  40.42  39.68  40.77  39.77       39.77   \n",
       "\n",
       "   Dividend    Volume  Shares Outstanding  \n",
       "0       NaN  33950280        1.378272e+10  \n",
       "1       NaN  31528080        1.378272e+10  \n",
       "2       NaN  32954660        1.378272e+10  \n",
       "3       NaN  54984420        1.378477e+10  \n",
       "4       NaN  85398040        1.378477e+10  "
      ]
     },
     "execution_count": 3,
     "metadata": {},
     "output_type": "execute_result"
    }
   ],
   "source": [
    "df = pd.read_csv('us-shareprices-daily.csv',sep=\";\")\n",
    "df.head()"
   ]
  },
  {
   "cell_type": "code",
   "execution_count": 4,
   "metadata": {},
   "outputs": [],
   "source": [
    "stocks = df.pivot(index=\"Date\", columns=\"Ticker\", values=\"Adj. Close\")\n"
   ]
  },
  {
   "cell_type": "code",
   "execution_count": 7,
   "metadata": {},
   "outputs": [
    {
     "data": {
      "text/plain": [
       "Date\n",
       "2016-10-24    20.78\n",
       "2016-10-25    21.03\n",
       "2016-10-26    20.78\n",
       "2016-10-27    20.98\n",
       "2016-10-28    21.18\n",
       "              ...  \n",
       "2021-10-18    56.84\n",
       "2021-10-19    53.30\n",
       "2021-10-20    52.14\n",
       "2021-10-21    49.64\n",
       "2021-10-22    48.90\n",
       "Name: AA, Length: 1284, dtype: float64"
      ]
     },
     "metadata": {},
     "output_type": "display_data"
    }
   ],
   "source": [
    "df.to_csv(filepath)  "
   ]
  },
  {
   "cell_type": "code",
   "execution_count": null,
   "metadata": {},
   "outputs": [],
   "source": []
  }
 ],
 "metadata": {
  "kernelspec": {
   "display_name": "Python 3",
   "language": "python",
   "name": "python3"
  },
  "language_info": {
   "codemirror_mode": {
    "name": "ipython",
    "version": 3
   },
   "file_extension": ".py",
   "mimetype": "text/x-python",
   "name": "python",
   "nbconvert_exporter": "python",
   "pygments_lexer": "ipython3",
   "version": "3.8.5"
  }
 },
 "nbformat": 4,
 "nbformat_minor": 4
}
